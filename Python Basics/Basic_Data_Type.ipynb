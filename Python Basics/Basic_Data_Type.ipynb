{
 "cells": [
  {
   "cell_type": "code",
   "id": "initial_id",
   "metadata": {
    "collapsed": true,
    "ExecuteTime": {
     "end_time": "2025-10-03T10:11:41.381231Z",
     "start_time": "2025-10-03T10:11:41.377680Z"
    }
   },
   "source": "1 + 1 + 1 == 3",
   "outputs": [
    {
     "data": {
      "text/plain": [
       "True"
      ]
     },
     "execution_count": 15,
     "metadata": {},
     "output_type": "execute_result"
    }
   ],
   "execution_count": 15
  },
  {
   "metadata": {
    "ExecuteTime": {
     "end_time": "2025-10-13T10:56:13.041424Z",
     "start_time": "2025-10-13T10:56:13.037194Z"
    }
   },
   "cell_type": "code",
   "source": [
    "format(-.99, '.31f')\n",
    "# ondalıklı sayının 31 rakamını görmemimizi sağlar\n",
    "\n",
    "print(f\"{format(-.3131, '.31f')}\")\n",
    "# Sayıları ekranda istediğimiz gibi (örn: 2 basamaklı) göstermek için formatlama (en modern yolu f-string: f\"{sayi:.2f}\") kullanılır."
   ],
   "id": "6df219b0b00813da",
   "outputs": [
    {
     "name": "stdout",
     "output_type": "stream",
     "text": [
      "-0.3130999999999999894306768055685\n"
     ]
    }
   ],
   "execution_count": 1
  },
  {
   "metadata": {
    "ExecuteTime": {
     "end_time": "2025-10-03T10:48:52.852828Z",
     "start_time": "2025-10-03T10:48:52.847956Z"
    }
   },
   "cell_type": "code",
   "source": [
    "import math\n",
    "number = 0.1 + 0.31\n",
    "equals = 0.41\n",
    "print(f\"toplam sonuc {number:.31f}\")\n",
    "# Bellekte evrensel bir standartla (IEEE 754) yaklaşık olarak saklanır. Bilgisayar, bir sayıya en yakın ikilik tabandaki karşılığını tutar. O yüzden onu görüntülemek için float kullanıyorum.\n",
    "print(f\"{number:.11f}\")\n",
    "print(f\"number sonuca esitmidir? {number == equals}\")\n",
    "# Float karşlaştırmaları her zaman false Çıktısını verir.\n",
    "# NOTE: Formatlanmış bir çıktıya bakarak `==` ile karşılaştırma yapmak yine de yanıltıcıdır!\n",
    "print(f\"number sonuca esitmidir? {math.isclose(number, equals)}\")\n",
    "# İki ondalıklı sayıyı karşılaştırmanın en doğru yolu, math kütüphanesindeki math.isclose(a, b) fonksiyonunu kullanmaktır. Bu fonksiyon, sayıların birbirine kabul edilebilir bir tolerans dahilinde yakın olup olmadığını kontrol eder."
   ],
   "id": "41f81433eeab4a98",
   "outputs": [
    {
     "name": "stdout",
     "output_type": "stream",
     "text": [
      "toplam sonuc 0.4100000000000000310862446895044\n",
      "0.41000000000\n",
      "number sonuca esitmidir? False\n",
      "number sonuca esitmidir? True\n"
     ]
    },
    {
     "data": {
      "text/plain": [
       "(3602879701896397, 36028797018963968)"
      ]
     },
     "execution_count": 34,
     "metadata": {},
     "output_type": "execute_result"
    }
   ],
   "execution_count": 34
  }
 ],
 "metadata": {
  "kernelspec": {
   "display_name": "Python 3",
   "language": "python",
   "name": "python3"
  },
  "language_info": {
   "codemirror_mode": {
    "name": "ipython",
    "version": 2
   },
   "file_extension": ".py",
   "mimetype": "text/x-python",
   "name": "python",
   "nbconvert_exporter": "python",
   "pygments_lexer": "ipython2",
   "version": "2.7.6"
  }
 },
 "nbformat": 4,
 "nbformat_minor": 5
}
