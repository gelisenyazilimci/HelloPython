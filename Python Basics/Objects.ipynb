{
 "cells": [
  {
   "cell_type": "code",
   "id": "initial_id",
   "metadata": {
    "collapsed": true,
    "ExecuteTime": {
     "end_time": "2025-10-03T12:55:38.274333Z",
     "start_time": "2025-10-03T12:55:38.270521Z"
    }
   },
   "source": [
    "class Account:\n",
    "\n",
    "    def __init__(self, account_number, account_type, initial_balance):\n",
    "        self.account_number = account_number\n",
    "        self.account_type = account_type\n",
    "        self.balance = initial_balance\n",
    "\n",
    "    def deposit (self, amount):\n",
    "        negativeCheck = lambda n: n < 0\n",
    "        if negativeCheck(amount) > 0:\n",
    "            self.balance += amount\n",
    "            print(f\"Deposited {format(amount, '.2f')}\")\n",
    "            print(f\"New balance: {format(self.balance, '.2f')}\")\n",
    "        else:\n",
    "            print(f\"{amount} is invalid amount!\")\n",
    "\n",
    "    def withdraw (self, amount):\n",
    "        negativeCheck = lambda n: n < 0\n",
    "        if negativeCheck(amount) <= self.balance:\n",
    "            self.balance -= amount\n",
    "            print(f\"Withdrawal {format(amount, '.2f')}\")\n",
    "            print(f\"New balance: {format(self.balance, '.2f')}\")\n",
    "        else:\n",
    "            if negativeCheck(amount):\n",
    "                print(f\"Negative amount {amount} is invalid!\")\n",
    "            else:\n",
    "                print(f\"Insufficient founds\")\n",
    "                print(f\"Current balance: {self.balance}\")\n"
   ],
   "outputs": [],
   "execution_count": 73
  },
  {
   "metadata": {
    "ExecuteTime": {
     "end_time": "2025-10-03T12:55:40.588213Z",
     "start_time": "2025-10-03T12:55:40.585940Z"
    }
   },
   "cell_type": "code",
   "source": "test = Account(\"313131-3131\", \"test_account\", 13_000.13)",
   "id": "9da127452cd7e74b",
   "outputs": [],
   "execution_count": 74
  },
  {
   "metadata": {
    "ExecuteTime": {
     "end_time": "2025-10-03T12:53:13.188302Z",
     "start_time": "2025-10-03T12:53:13.184760Z"
    }
   },
   "cell_type": "code",
   "source": "test.account_number",
   "id": "be63a4bd6b254d67",
   "outputs": [
    {
     "data": {
      "text/plain": [
       "'313131-3131'"
      ]
     },
     "execution_count": 57,
     "metadata": {},
     "output_type": "execute_result"
    }
   ],
   "execution_count": 57
  },
  {
   "metadata": {
    "ExecuteTime": {
     "end_time": "2025-10-03T12:53:16.158201Z",
     "start_time": "2025-10-03T12:53:16.154981Z"
    }
   },
   "cell_type": "code",
   "source": "test.account_type",
   "id": "d23e8e3a254cae4c",
   "outputs": [
    {
     "data": {
      "text/plain": [
       "'test_account'"
      ]
     },
     "execution_count": 58,
     "metadata": {},
     "output_type": "execute_result"
    }
   ],
   "execution_count": 58
  },
  {
   "metadata": {
    "ExecuteTime": {
     "end_time": "2025-10-03T12:54:22.041102Z",
     "start_time": "2025-10-03T12:54:22.037971Z"
    }
   },
   "cell_type": "code",
   "source": "test.balance",
   "id": "cdee3ef8be9957e4",
   "outputs": [
    {
     "data": {
      "text/plain": [
       "'13000.13'"
      ]
     },
     "execution_count": 65,
     "metadata": {},
     "output_type": "execute_result"
    }
   ],
   "execution_count": 65
  },
  {
   "metadata": {
    "ExecuteTime": {
     "end_time": "2025-10-03T12:55:42.773774Z",
     "start_time": "2025-10-03T12:55:42.771239Z"
    }
   },
   "cell_type": "code",
   "source": "test.deposit(600.00)",
   "id": "a809cc73b04153a4",
   "outputs": [
    {
     "name": "stdout",
     "output_type": "stream",
     "text": [
      "Deposited 600.00\n",
      "New balance: 13600.13\n"
     ]
    }
   ],
   "execution_count": 75
  },
  {
   "metadata": {
    "ExecuteTime": {
     "end_time": "2025-10-03T12:55:46.734626Z",
     "start_time": "2025-10-03T12:55:46.731252Z"
    }
   },
   "cell_type": "code",
   "source": "test.balance",
   "id": "901f68d908840c05",
   "outputs": [
    {
     "data": {
      "text/plain": [
       "13600.13"
      ]
     },
     "execution_count": 76,
     "metadata": {},
     "output_type": "execute_result"
    }
   ],
   "execution_count": 76
  },
  {
   "metadata": {
    "ExecuteTime": {
     "end_time": "2025-10-05T10:53:27.726174Z",
     "start_time": "2025-10-05T10:53:27.722828Z"
    }
   },
   "cell_type": "code",
   "source": [
    "class Product:\n",
    "    def __init__ (self, productName, productCode, productPrice, productStock):\n",
    "        self.name = productName\n",
    "        self.product_code = productCode\n",
    "        self.price = productPrice\n",
    "        self.stock = productStock\n",
    "\n",
    "    def addStock (self, add):\n",
    "        negativeCheck = lambda n: n > 0\n",
    "        if negativeCheck(add) and int(self.stock):\n",
    "            print(f\"Urun eklenmeden onceki urun sayisi: {self.stock}\")\n",
    "            self.stock += add\n",
    "            print(f\"Eklenen yeni urun sayisi: {add}\")\n",
    "            print(f\"Yeni toplam urun sayisi: {self.stock}\")\n",
    "\n",
    "    def comesOut (self, out):\n",
    "        not_equal_zero = lambda n: n != 0\n",
    "        negativeCheck = lambda n: n > 0\n",
    "        if  not_equal_zero(self.stock) and not_equal_zero(out):\n",
    "            kalanurunsayisi = self.stock - out\n",
    "            if negativeCheck(0):\n",
    "                print (f\"Elinizde o kadar eşya yok ve o kadar eşya çıkartamıyorsunuz!\")\n",
    "            else:\n",
    "                self.stock = kalanurunsayisi\n",
    "                print (f\"Toplam cikarilan urun sayisi {out}\")\n",
    "                print (f\"Şu anki ürün sayınız! {self.stock}\")\n",
    "\n",
    "\n",
    "\n",
    "\n"
   ],
   "id": "b40461c9b370583f",
   "outputs": [],
   "execution_count": 45
  },
  {
   "metadata": {
    "ExecuteTime": {
     "end_time": "2025-10-05T10:53:29.654396Z",
     "start_time": "2025-10-05T10:53:29.652033Z"
    }
   },
   "cell_type": "code",
   "source": "testUrun = Product(\"Test Urun\", 3131313131_3313131, 1231, 31)",
   "id": "33682e067496da4b",
   "outputs": [],
   "execution_count": 46
  },
  {
   "metadata": {
    "ExecuteTime": {
     "end_time": "2025-10-05T10:53:38.116888Z",
     "start_time": "2025-10-05T10:53:38.113990Z"
    }
   },
   "cell_type": "code",
   "source": "testUrun.addStock(31)",
   "id": "d29e40be150148a2",
   "outputs": [
    {
     "name": "stdout",
     "output_type": "stream",
     "text": [
      "Urun eklenmeden onceki urun sayisi: 62\n",
      "Eklenen yeni urun sayisi: 31\n",
      "Yeni toplam urun sayisi: 93\n"
     ]
    }
   ],
   "execution_count": 48
  },
  {
   "metadata": {
    "ExecuteTime": {
     "end_time": "2025-10-05T10:54:03.150252Z",
     "start_time": "2025-10-05T10:54:03.147782Z"
    }
   },
   "cell_type": "code",
   "source": "testUrun.comesOut(13)",
   "id": "8213c31206bfe908",
   "outputs": [
    {
     "name": "stdout",
     "output_type": "stream",
     "text": [
      "Toplam cikarilan urun sayisi 13\n",
      "Şu anki ürün sayınız! 67\n"
     ]
    }
   ],
   "execution_count": 50
  },
  {
   "metadata": {
    "ExecuteTime": {
     "end_time": "2025-10-05T10:54:19.876704Z",
     "start_time": "2025-10-05T10:54:19.872568Z"
    }
   },
   "cell_type": "code",
   "source": "testUrun.stock",
   "id": "5c40c068a39f4d8b",
   "outputs": [
    {
     "data": {
      "text/plain": [
       "67"
      ]
     },
     "execution_count": 51,
     "metadata": {},
     "output_type": "execute_result"
    }
   ],
   "execution_count": 51
  }
 ],
 "metadata": {
  "kernelspec": {
   "display_name": "Python 3",
   "language": "python",
   "name": "python3"
  },
  "language_info": {
   "codemirror_mode": {
    "name": "ipython",
    "version": 2
   },
   "file_extension": ".py",
   "mimetype": "text/x-python",
   "name": "python",
   "nbconvert_exporter": "python",
   "pygments_lexer": "ipython2",
   "version": "2.7.6"
  }
 },
 "nbformat": 4,
 "nbformat_minor": 5
}
