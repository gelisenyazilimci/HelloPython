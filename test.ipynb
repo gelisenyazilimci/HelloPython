{
 "cells": [
  {
   "cell_type": "code",
   "execution_count": 2,
   "id": "5928d82f-b8b6-4538-a16e-84ec61f5ae84",
   "metadata": {},
   "outputs": [
    {
     "name": "stdout",
     "output_type": "stream",
     "text": [
      "Hello World\n"
     ]
    }
   ],
   "source": "print(\"Hello World\")"
  },
  {
   "metadata": {
    "ExecuteTime": {
     "end_time": "2025-10-01T14:25:04.931798Z",
     "start_time": "2025-10-01T14:25:04.928946Z"
    }
   },
   "cell_type": "code",
   "outputs": [],
   "execution_count": 9,
   "source": "a = 1",
   "id": "2c57f917-93bb-4d47-848f-c8948b582ea2"
  },
  {
   "cell_type": "code",
   "execution_count": 4,
   "id": "e1eb1f6c-0fa8-4bc7-ae82-d699def1edbf",
   "metadata": {},
   "outputs": [
    {
     "name": "stdout",
     "output_type": "stream",
     "text": [
      "1\n"
     ]
    }
   ],
   "source": [
    "print(a)"
   ]
  },
  {
   "cell_type": "code",
   "id": "9d903444-29a7-479c-b295-8a24e2765e1e",
   "metadata": {
    "ExecuteTime": {
     "end_time": "2025-10-01T14:29:17.156657Z",
     "start_time": "2025-10-01T14:29:17.153454Z"
    }
   },
   "source": "print(\"Test\")",
   "outputs": [
    {
     "name": "stdout",
     "output_type": "stream",
     "text": [
      "Test\n"
     ]
    }
   ],
   "execution_count": 11
  },
  {
   "cell_type": "code",
   "id": "58dd882e-12d6-4f20-8549-8e589fd3f23c",
   "metadata": {
    "ExecuteTime": {
     "end_time": "2025-10-01T14:20:08.295430Z",
     "start_time": "2025-10-01T14:20:08.291811Z"
    }
   },
   "source": [
    "for i in range(12):\n",
    "    print(i)"
   ],
   "outputs": [
    {
     "name": "stdout",
     "output_type": "stream",
     "text": [
      "1\n",
      "2\n",
      "3\n",
      "4\n",
      "5\n",
      "6\n",
      "7\n",
      "8\n",
      "9\n",
      "10\n",
      "11\n",
      "12\n"
     ]
    }
   ],
   "execution_count": 8
  }
 ],
 "metadata": {
  "kernelspec": {
   "display_name": "Python 3 (ipykernel)",
   "language": "python",
   "name": "python3"
  },
  "language_info": {
   "codemirror_mode": {
    "name": "ipython",
    "version": 3
   },
   "file_extension": ".py",
   "mimetype": "text/x-python",
   "name": "python",
   "nbconvert_exporter": "python",
   "pygments_lexer": "ipython3",
   "version": "3.11.9"
  }
 },
 "nbformat": 4,
 "nbformat_minor": 5
}
